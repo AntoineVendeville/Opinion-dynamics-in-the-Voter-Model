{
 "cells": [
  {
   "cell_type": "code",
   "execution_count": 1,
   "id": "2cd65a29-f2f6-4e03-9940-d9c00bcb2145",
   "metadata": {},
   "outputs": [],
   "source": [
    "import sys\n",
    "import numpy as np\n",
    "import pandas as pd\n",
    "from time import time\n",
    "import matplotlib.pyplot as plt\n",
    "import networkx as nx\n",
    "import util_snam as us\n",
    "from matplotlib import rc\n",
    "import pickle\n",
    "rc('font',**{'family':'serif','serif':['Roman']})\n",
    "rc('text', usetex=True)"
   ]
  },
  {
   "cell_type": "markdown",
   "id": "02b248f4-de2c-4ec5-b2de-a0402cb03dd9",
   "metadata": {
    "jp-MarkdownHeadingCollapsed": true,
    "tags": []
   },
   "source": [
    "# Figure 1"
   ]
  },
  {
   "cell_type": "markdown",
   "id": "bf825547-b61f-495b-b366-b02bd451918c",
   "metadata": {},
   "source": [
    "We consider that the zealot nodes are part of the graphd and thus included in $N$. So there are $N-z$ free users."
   ]
  },
  {
   "cell_type": "code",
   "execution_count": 142,
   "id": "4ee8dccd-8a94-4fdf-b2bf-b37667444c30",
   "metadata": {},
   "outputs": [],
   "source": [
    "N = 100\n",
    "nz0,nz1 = 25,18 # nb of zealot nodes\n",
    "z = nz0+nz1 # total nb of zealot nodes\n",
    "free = N-z"
   ]
  },
  {
   "cell_type": "markdown",
   "id": "41556f4a-030f-47e7-a206-ecd2e6a55b8f",
   "metadata": {},
   "source": [
    "Create graph"
   ]
  },
  {
   "cell_type": "code",
   "execution_count": 241,
   "id": "9907122b-c41d-48d3-a551-975fb5d77bc0",
   "metadata": {},
   "outputs": [],
   "source": [
    "gtype = 'BA'\n",
    "if gtype=='BA':\n",
    "    ba = 8 # BA graph\n",
    "    G = nx.barabasi_albert_graph(N,ba)\n",
    "    W = nx.to_numpy_array(G)\n",
    "elif gtype=='ER':\n",
    "    er = .18 # ER graph\n",
    "    W = np.random.choice((0,1),size=(N,N),p=(1-er,er))\n",
    "W = W*np.random.exponential(1,(N,N))\n",
    "W[N-z:,:] = 0\n",
    "np.fill_diagonal(W,0)"
   ]
  },
  {
   "cell_type": "code",
   "execution_count": 242,
   "id": "5f627dcc-e31a-4557-b5cb-42665b8649b9",
   "metadata": {},
   "outputs": [
    {
     "data": {
      "text/plain": [
       "'rho_result/BA_weightedTrue_'"
      ]
     },
     "execution_count": 242,
     "metadata": {},
     "output_type": "execute_result"
    }
   ],
   "source": [
    "weighted = True\n",
    "path = f'{gtype}_weighted{weighted}_'\n",
    "path"
   ]
  },
  {
   "cell_type": "code",
   "execution_count": 220,
   "id": "f483b74a-784b-4f46-ad2e-3976c027ca8d",
   "metadata": {},
   "outputs": [
    {
     "data": {
      "text/plain": [
       "0.07434343434343435"
      ]
     },
     "execution_count": 220,
     "metadata": {},
     "output_type": "execute_result"
    }
   ],
   "source": [
    "G.number_of_edges()/(N*(N-1))"
   ]
  },
  {
   "cell_type": "markdown",
   "id": "374782f0-de17-4d6b-88ca-db2a0eb17583",
   "metadata": {},
   "source": [
    "Get L, z0, z1."
   ]
  },
  {
   "cell_type": "code",
   "execution_count": 221,
   "id": "2d298484-211a-4503-95bb-1de4d219d7c9",
   "metadata": {},
   "outputs": [],
   "source": [
    "L = np.diag(W[:N-z,:N-z].sum(axis=1))-W[:N-z,:N-z]\n",
    "#z0, z1 = np.full(N-z,nz0), np.full(N-z,nz1)\n",
    "z0 = W[:N-z,N-z:N-nz1].sum(axis=1)\n",
    "z1 = W[:N-z,N-nz1:N].sum(axis=1)\n",
    "#z0, z1 = np.random.randint(0,3,size=N-z), np.random.randint(0,3,size=N-z)\n",
    "A = (W>0).astype(int) # unweighted adjacency matrix"
   ]
  },
  {
   "cell_type": "markdown",
   "id": "523f017d-74ff-418c-8a6e-fbac31ef4da4",
   "metadata": {},
   "source": [
    "Graph density?"
   ]
  },
  {
   "cell_type": "code",
   "execution_count": 222,
   "id": "b001a0d8-cd2a-4638-90e0-f4203b72ee2c",
   "metadata": {},
   "outputs": [
    {
     "data": {
      "text/plain": [
       "0.10777777777777778"
      ]
     },
     "execution_count": 222,
     "metadata": {},
     "output_type": "execute_result"
    }
   ],
   "source": [
    "A.sum()/(N*(N-1))"
   ]
  },
  {
   "cell_type": "markdown",
   "id": "fe189ff8-559b-444f-a108-09ac91c8cf4f",
   "metadata": {},
   "source": [
    "Get equilibrium opinions xstar."
   ]
  },
  {
   "cell_type": "code",
   "execution_count": 223,
   "id": "9fde73fb-4423-4590-8844-b2ed3b7c6258",
   "metadata": {},
   "outputs": [],
   "source": [
    "xstar = np.linalg.inv(L+np.diag(z0)+np.diag(z1)).dot(z1)"
   ]
  },
  {
   "cell_type": "markdown",
   "id": "a6f30be2-85a4-4330-9ebe-8960db4e11f8",
   "metadata": {},
   "source": [
    "Get rho theory."
   ]
  },
  {
   "cell_type": "code",
   "execution_count": 224,
   "id": "6341f8b1-aaa1-4eda-831e-5e6f40b864bf",
   "metadata": {},
   "outputs": [],
   "source": [
    "rho_mean = us.get_rho(N,W,nz0,nz1,z0,z1,xstar,weighted)"
   ]
  },
  {
   "cell_type": "markdown",
   "id": "09ce4d22-c57d-4e2c-87e2-5e023d2da4a4",
   "metadata": {},
   "source": [
    "Simulate."
   ]
  },
  {
   "cell_type": "code",
   "execution_count": 228,
   "id": "74c1884f-eccc-4203-9fcd-a69b7e09e0f0",
   "metadata": {
    "tags": []
   },
   "outputs": [
    {
     "name": "stdout",
     "output_type": "stream",
     "text": [
      "elapsed time 49937.164, max time 50000.000\r"
     ]
    }
   ],
   "source": [
    "#n_steps = 300000\n",
    "max_time = 50000 #n_steps/free\n",
    "burn = max_time/5\n",
    "save_every = N\n",
    "print_every = 10000\n",
    "timeit = True\n",
    "rho_simu,times = us.get_rho_simu(N,nz0,nz1,W,max_time,weighted,burn,save_every,print_every,timeit)"
   ]
  },
  {
   "cell_type": "code",
   "execution_count": 243,
   "id": "22328154-c7c5-486c-be61-4ce4efd1426d",
   "metadata": {},
   "outputs": [],
   "source": [
    "dump = False\n",
    "load = True\n",
    "if dump:\n",
    "    pickle.dump(rho_simu, open(path+f'rhoEmp.p','wb'))\n",
    "    pickle.dump(times, open(path+f'times.p','wb'))\n",
    "    pickle.dump(rho_mean, open(path+f'rhoTheo.p','wb'))\n",
    "if load:\n",
    "    rho_simu = pickle.load(open(path+'rhoEmp.p','rb'))\n",
    "    times = pickle.load(open(path+'times.p','rb'))\n",
    "    rho_mean = pickle.load(open(path+'rhoTheo.p','rb'))"
   ]
  },
  {
   "cell_type": "code",
   "execution_count": 237,
   "id": "7758ec9e-f356-4717-9f30-a91bec8ea999",
   "metadata": {},
   "outputs": [
    {
     "data": {
      "text/plain": [
       "(22772, 0.45136382761258387, 0.4511985674991319)"
      ]
     },
     "execution_count": 237,
     "metadata": {},
     "output_type": "execute_result"
    }
   ],
   "source": [
    "len(rho_simu), np.mean(rho_simu), rho_mean"
   ]
  },
  {
   "cell_type": "code",
   "execution_count": 238,
   "id": "0f39237a-2543-4a95-8b2a-ea84a7476ddc",
   "metadata": {},
   "outputs": [
    {
     "name": "stdout",
     "output_type": "stream",
     "text": [
      "0.00016526011345197045 0.03662691447979573\n"
     ]
    }
   ],
   "source": [
    "error_abs = np.abs(np.mean(rho_simu)-rho_mean)\n",
    "error_rel =  100*np.abs(np.mean(rho_simu)-rho_mean)/rho_mean\n",
    "print(error_abs, error_rel)"
   ]
  },
  {
   "cell_type": "code",
   "execution_count": 244,
   "id": "b27e574d-dba3-412b-9146-e1c22f7c5ecd",
   "metadata": {},
   "outputs": [
    {
     "data": {
      "image/png": "[encoded data removed]",
      "text/plain": [
       "<Figure size 432x144 with 1 Axes>"
      ]
     },
     "metadata": {
      "needs_background": "light"
     },
     "output_type": "display_data"
    }
   ],
   "source": [
    "mini,maxi = max_time-1000,max_time\n",
    "xaxis,yaxis = list(),list()\n",
    "for i,t in enumerate(times):\n",
    "    if t>mini and t<maxi:\n",
    "        xaxis.append(t)\n",
    "        yaxis.append(rho_simu[i])\n",
    "fig, ax = plt.subplots(figsize=(6,2))\n",
    "plt.axhline(rho_mean, lw=2, ls='--',  color='red', label=r'$\\rho_w={:.4f}$'.format(rho_mean))\n",
    "plt.plot(xaxis, yaxis, lw=.7, color='blue', label=r'$\\rho_w={:.4f}$'.format(np.mean(rho_simu)))\n",
    "plt.xlim(xaxis[0],xaxis[-1])\n",
    "plt.ylim(0.1,0.6)\n",
    "if gtype=='ER':\n",
    "    plt.xticks([])\n",
    "else:\n",
    "    plt.xticks(range(mini,maxi+1,250))\n",
    "if weighted:\n",
    "    s = r'$\\hat\\rho_w={0:.4f}\\quad \\rho_w={1:.4f}$'.format(np.mean(rho_simu),rho_mean)\n",
    "else:\n",
    "    s = r'$\\hat\\rho={0:.4f}\\quad \\rho={1:.4f}$'.format(np.mean(rho_simu),rho_mean)\n",
    "#plt.title()\n",
    "plt.text(maxi-360,.13,s,fontsize=12)\n",
    "plt.tight_layout()\n",
    "plt.savefig(path+f\"plot.eps\")\n",
    "plt.show()\n",
    "plt.close()"
   ]
  },
  {
   "cell_type": "markdown",
   "id": "15dd36d8-f7c5-4ff0-9122-88d62513082e",
   "metadata": {
    "tags": []
   },
   "source": [
    "# Figure 2 (data)"
   ]
  },
  {
   "cell_type": "markdown",
   "id": "51e12ca5-cfeb-4956-8ecd-05ec0cb76880",
   "metadata": {},
   "source": [
    "Initialise."
   ]
  },
  {
   "cell_type": "code",
   "execution_count": 2,
   "id": "42fa6104-a62b-4a72-8f99-1b7560d57b66",
   "metadata": {},
   "outputs": [
    {
     "data": {
      "text/html": [
       "<div>\n",
       "<style scoped>\n",
       "    .dataframe tbody tr th:only-of-type {\n",
       "        vertical-align: middle;\n",
       "    }\n",
       "\n",
       "    .dataframe tbody tr th {\n",
       "        vertical-align: top;\n",
       "    }\n",
       "\n",
       "    .dataframe thead th {\n",
       "        text-align: right;\n",
       "    }\n",
       "</style>\n",
       "<table border=\"1\" class=\"dataframe\">\n",
       "  <thead>\n",
       "    <tr style=\"text-align: right;\">\n",
       "      <th></th>\n",
       "      <th>congress</th>\n",
       "      <th>party_name</th>\n",
       "      <th>n_members</th>\n",
       "    </tr>\n",
       "  </thead>\n",
       "  <tbody>\n",
       "    <tr>\n",
       "      <th>1</th>\n",
       "      <td>1</td>\n",
       "      <td>Anti-Administration</td>\n",
       "      <td>29</td>\n",
       "    </tr>\n",
       "    <tr>\n",
       "      <th>2</th>\n",
       "      <td>1</td>\n",
       "      <td>Pro-Administration</td>\n",
       "      <td>37</td>\n",
       "    </tr>\n",
       "    <tr>\n",
       "      <th>6</th>\n",
       "      <td>2</td>\n",
       "      <td>Anti-Administration</td>\n",
       "      <td>32</td>\n",
       "    </tr>\n",
       "    <tr>\n",
       "      <th>7</th>\n",
       "      <td>2</td>\n",
       "      <td>Pro-Administration</td>\n",
       "      <td>40</td>\n",
       "    </tr>\n",
       "    <tr>\n",
       "      <th>11</th>\n",
       "      <td>3</td>\n",
       "      <td>Anti-Administration</td>\n",
       "      <td>56</td>\n",
       "    </tr>\n",
       "  </tbody>\n",
       "</table>\n",
       "</div>"
      ],
      "text/plain": [
       "    congress           party_name  n_members\n",
       "1          1  Anti-Administration         29\n",
       "2          1   Pro-Administration         37\n",
       "6          2  Anti-Administration         32\n",
       "7          2   Pro-Administration         40\n",
       "11         3  Anti-Administration         56"
      ]
     },
     "execution_count": 2,
     "metadata": {},
     "output_type": "execute_result"
    }
   ],
   "source": [
    "df = pd.read_csv('HSall_parties.csv')\n",
    "df = df[df.chamber=='House']\n",
    "df.drop(['chamber','party_code','nominate_dim1_median','nominate_dim2_median','nominate_dim1_mean','nominate_dim2_mean']\n",
    "        ,axis=1,inplace=True)\n",
    "df.head()"
   ]
  },
  {
   "cell_type": "markdown",
   "id": "20aada0a-2438-461f-94a3-99e96242f0ac",
   "metadata": {},
   "source": [
    "Look at proportion of Democrats and Republicans over time."
   ]
  },
  {
   "cell_type": "code",
   "execution_count": 3,
   "id": "dcf3bcc4-7d4d-48dc-b15e-667710ff1063",
   "metadata": {},
   "outputs": [],
   "source": [
    "congress = np.unique(df.congress.values)\n",
    "prop_dem, prop_rep, total =list(), list(), list()\n",
    "for c in congress:\n",
    "    df_ = df[df.congress==c]\n",
    "    N = df_.n_members.sum()\n",
    "    if 'Democrat' in df_.party_name.values:\n",
    "        prop_dem.append(df_[df_.party_name=='Democrat'].n_members.values[0] /N)\n",
    "    else:\n",
    "        prop_dem.append(0)\n",
    "    if 'Republican' in df_.party_name.values:\n",
    "        prop_rep.append(df_[df_.party_name=='Republican'].n_members.values[0] /N)\n",
    "    else:\n",
    "        prop_rep.append(0)\n",
    "    total.append(N)\n",
    "prop_demrep = np.array(prop_dem)+np.array(prop_rep)  "
   ]
  },
  {
   "cell_type": "code",
   "execution_count": 4,
   "id": "79e0fde9-23a2-492d-b8a8-b379ed6e6059",
   "metadata": {},
   "outputs": [
    {
     "data": {
      "text/plain": [
       "<matplotlib.legend.Legend at 0x7ffd4ec20c10>"
      ]
     },
     "execution_count": 4,
     "metadata": {},
     "output_type": "execute_result"
    },
    {
     "data": {
      "image/png": "[encoded data removed]",
      "text/plain": [
       "<Figure size 864x288 with 1 Axes>"
      ]
     },
     "metadata": {
      "needs_background": "light"
     },
     "output_type": "display_data"
    }
   ],
   "source": [
    "fig,ax = plt.subplots(figsize=(12,4))\n",
    "plt.plot(congress,prop_rep,c='red',label='Republican party')\n",
    "plt.plot(congress,prop_dem,c='blue',label='Democratic party')\n",
    "plt.plot(congress,prop_demrep,c='black',label='Both parties')\n",
    "plt.grid()\n",
    "plt.xlabel('Congress')\n",
    "plt.ylabel('Proportion of members')\n",
    "plt.legend(loc='best')"
   ]
  },
  {
   "cell_type": "code",
   "execution_count": 5,
   "id": "c9d27057-6157-4f6e-adc0-ac45d0b15db9",
   "metadata": {},
   "outputs": [
    {
     "data": {
      "text/plain": [
       "0.9954545454545454"
      ]
     },
     "execution_count": 5,
     "metadata": {},
     "output_type": "execute_result"
    }
   ],
   "source": [
    "min(prop_demrep[80:])"
   ]
  },
  {
   "cell_type": "markdown",
   "id": "acc96ea0-28a6-4f85-9a8c-71adddadc54d",
   "metadata": {},
   "source": [
    "From 80 congress onwards, there is always >99.5% Republicans+Democrats in the House, making our analysis very relevant. So that's where we start."
   ]
  },
  {
   "cell_type": "code",
   "execution_count": 6,
   "id": "08c24fcf-c9ce-49d8-97ba-a1cbabaeb041",
   "metadata": {},
   "outputs": [],
   "source": [
    "congress_min, congress_max = 80, 118\n",
    "df = df[df.congress>=congress_min]\n",
    "df = df[df.congress<congress_max]\n",
    "df.reset_index(drop=True,inplace=True)"
   ]
  },
  {
   "cell_type": "code",
   "execution_count": 7,
   "id": "28459792-960d-4521-bdbc-cbca629a9dec",
   "metadata": {},
   "outputs": [
    {
     "data": {
      "text/html": [
       "<div>\n",
       "<style scoped>\n",
       "    .dataframe tbody tr th:only-of-type {\n",
       "        vertical-align: middle;\n",
       "    }\n",
       "\n",
       "    .dataframe tbody tr th {\n",
       "        vertical-align: top;\n",
       "    }\n",
       "\n",
       "    .dataframe thead th {\n",
       "        text-align: right;\n",
       "    }\n",
       "</style>\n",
       "<table border=\"1\" class=\"dataframe\">\n",
       "  <thead>\n",
       "    <tr style=\"text-align: right;\">\n",
       "      <th></th>\n",
       "      <th>congress</th>\n",
       "      <th>party_name</th>\n",
       "      <th>n_members</th>\n",
       "    </tr>\n",
       "  </thead>\n",
       "  <tbody>\n",
       "    <tr>\n",
       "      <th>0</th>\n",
       "      <td>80</td>\n",
       "      <td>Democrat</td>\n",
       "      <td>194</td>\n",
       "    </tr>\n",
       "    <tr>\n",
       "      <th>1</th>\n",
       "      <td>80</td>\n",
       "      <td>Republican</td>\n",
       "      <td>253</td>\n",
       "    </tr>\n",
       "    <tr>\n",
       "      <th>2</th>\n",
       "      <td>80</td>\n",
       "      <td>American Labor</td>\n",
       "      <td>2</td>\n",
       "    </tr>\n",
       "    <tr>\n",
       "      <th>3</th>\n",
       "      <td>81</td>\n",
       "      <td>Democrat</td>\n",
       "      <td>267</td>\n",
       "    </tr>\n",
       "    <tr>\n",
       "      <th>4</th>\n",
       "      <td>81</td>\n",
       "      <td>Republican</td>\n",
       "      <td>176</td>\n",
       "    </tr>\n",
       "  </tbody>\n",
       "</table>\n",
       "</div>"
      ],
      "text/plain": [
       "   congress      party_name  n_members\n",
       "0        80        Democrat        194\n",
       "1        80      Republican        253\n",
       "2        80  American Labor          2\n",
       "3        81        Democrat        267\n",
       "4        81      Republican        176"
      ]
     },
     "execution_count": 7,
     "metadata": {},
     "output_type": "execute_result"
    }
   ],
   "source": [
    "df.head()"
   ]
  },
  {
   "cell_type": "markdown",
   "id": "94c2f1c9-c65c-4cf0-8c00-61e0873f5ebd",
   "metadata": {},
   "source": [
    "We transform the dataset to have one row per congress. We ignore indepentds (there are very few of them and our model doest not account for more than 2 parties for now)."
   ]
  },
  {
   "cell_type": "code",
   "execution_count": 8,
   "id": "2a6d7c72-a8ce-4897-9c93-26bde456dea4",
   "metadata": {},
   "outputs": [],
   "source": [
    "dem = df[df.party_name=='Democrat']['n_members'].values\n",
    "rep = df[df.party_name=='Republican']['n_members'].values"
   ]
  },
  {
   "cell_type": "code",
   "execution_count": 9,
   "id": "c77a34c9-b2df-4a29-aa28-eb61950258f3",
   "metadata": {},
   "outputs": [],
   "source": [
    "dico = {'congress':range(congress_min,congress_max),'dem':dem,'rep':rep,'total':dem+rep}\n",
    "df = pd.DataFrame.from_dict(dico)"
   ]
  },
  {
   "cell_type": "code",
   "execution_count": 10,
   "id": "2159be70-c765-4866-b699-ed4c6f01a83d",
   "metadata": {
    "tags": []
   },
   "outputs": [
    {
     "data": {
      "text/html": [
       "<div>\n",
       "<style scoped>\n",
       "    .dataframe tbody tr th:only-of-type {\n",
       "        vertical-align: middle;\n",
       "    }\n",
       "\n",
       "    .dataframe tbody tr th {\n",
       "        vertical-align: top;\n",
       "    }\n",
       "\n",
       "    .dataframe thead th {\n",
       "        text-align: right;\n",
       "    }\n",
       "</style>\n",
       "<table border=\"1\" class=\"dataframe\">\n",
       "  <thead>\n",
       "    <tr style=\"text-align: right;\">\n",
       "      <th></th>\n",
       "      <th>congress</th>\n",
       "      <th>dem</th>\n",
       "      <th>rep</th>\n",
       "      <th>total</th>\n",
       "    </tr>\n",
       "  </thead>\n",
       "  <tbody>\n",
       "    <tr>\n",
       "      <th>0</th>\n",
       "      <td>80</td>\n",
       "      <td>194</td>\n",
       "      <td>253</td>\n",
       "      <td>447</td>\n",
       "    </tr>\n",
       "    <tr>\n",
       "      <th>1</th>\n",
       "      <td>81</td>\n",
       "      <td>267</td>\n",
       "      <td>176</td>\n",
       "      <td>443</td>\n",
       "    </tr>\n",
       "    <tr>\n",
       "      <th>2</th>\n",
       "      <td>82</td>\n",
       "      <td>240</td>\n",
       "      <td>207</td>\n",
       "      <td>447</td>\n",
       "    </tr>\n",
       "    <tr>\n",
       "      <th>3</th>\n",
       "      <td>83</td>\n",
       "      <td>218</td>\n",
       "      <td>222</td>\n",
       "      <td>440</td>\n",
       "    </tr>\n",
       "    <tr>\n",
       "      <th>4</th>\n",
       "      <td>84</td>\n",
       "      <td>235</td>\n",
       "      <td>203</td>\n",
       "      <td>438</td>\n",
       "    </tr>\n",
       "  </tbody>\n",
       "</table>\n",
       "</div>"
      ],
      "text/plain": [
       "   congress  dem  rep  total\n",
       "0        80  194  253    447\n",
       "1        81  267  176    443\n",
       "2        82  240  207    447\n",
       "3        83  218  222    440\n",
       "4        84  235  203    438"
      ]
     },
     "execution_count": 10,
     "metadata": {},
     "output_type": "execute_result"
    }
   ],
   "source": [
    "df.head()"
   ]
  },
  {
   "cell_type": "code",
   "execution_count": 11,
   "id": "8a2a0407-1585-418e-908e-68f9db65d7d6",
   "metadata": {},
   "outputs": [],
   "source": [
    "N = df.total.max() # we set the number of seats to its maximum"
   ]
  },
  {
   "cell_type": "code",
   "execution_count": 12,
   "id": "67d694f4-a6d9-4b02-a5ad-2468be57994c",
   "metadata": {},
   "outputs": [
    {
     "data": {
      "text/plain": [
       "(438, 453)"
      ]
     },
     "execution_count": 12,
     "metadata": {},
     "output_type": "execute_result"
    }
   ],
   "source": [
    "df.total.min(), df.total.max()"
   ]
  },
  {
   "cell_type": "markdown",
   "id": "1d0ed02e-eb95-4967-a3b5-dfde9c65b91a",
   "metadata": {},
   "source": [
    "Compute average empirical diversity (sigma) over time."
   ]
  },
  {
   "cell_type": "code",
   "execution_count": 13,
   "id": "fc7032f8-11fb-4d45-8306-f7023f444375",
   "metadata": {},
   "outputs": [
    {
     "data": {
      "text/plain": [
       "0.970801230417951"
      ]
     },
     "execution_count": 13,
     "metadata": {},
     "output_type": "execute_result"
    }
   ],
   "source": [
    "sigma_emp = us.get_sigma_complete(df.dem,df.rep).mean()\n",
    "sigma_emp"
   ]
  },
  {
   "cell_type": "markdown",
   "id": "0beaf475-67f3-4322-8ed6-b82757a96526",
   "metadata": {},
   "source": [
    "Now compute theoretical sigma as well as theoretical and empirical rho for all possible pairs (z0,z1). We also compute errors between theory and empirical."
   ]
  },
  {
   "cell_type": "code",
   "execution_count": 14,
   "id": "df1577e4-5f27-425c-ab03-ffc30027bc8a",
   "metadata": {},
   "outputs": [],
   "source": [
    "n_row = df.shape[0]\n",
    "error_abs = {'sigma':dict(), 'rho':dict(), 'full':dict()}\n",
    "error_rel = {'sigma':dict(), 'rho':dict(), 'full':dict()}\n",
    "min_dem, min_rep = df.dem.min(), df.rep.min() # those are maximum values for z0,z1 across all data\n",
    "\n",
    "for z0 in range(1,min_dem+1):\n",
    "    for z1 in range(1,min_rep+1):\n",
    "        sigma_theo, rho_emp, rho_theo = 0,0,0\n",
    "        for c,dem,rep,total in df.values:\n",
    "            sigma_theo += us.get_sigma_complete(z0,z1)\n",
    "            rho_emp += (2*dem*rep -dem*z1 -rep*z0) /(total*(total-1))\n",
    "            rho_theo += us.get_rho_complete(total,z0,z1)\n",
    "        sigma_theo, rho_emp, rho_theo = sigma_theo/n_row, rho_emp/n_row, rho_theo/n_row\n",
    "        error_abs['sigma'][z0,z1] = abs(sigma_theo-sigma_emp)#*100/sigma_emp\n",
    "        error_abs['rho'][z0,z1] = abs(rho_theo-rho_emp)#*100/rho_emp\n",
    "        error_abs['full'][z0,z1] = (error_abs['sigma'][z0,z1]+error_abs['rho'][z0,z1])/2\n",
    "        error_rel['sigma'][z0,z1] = abs(sigma_theo-sigma_emp)*100/sigma_emp\n",
    "        error_rel['rho'][z0,z1] = abs(rho_theo-rho_emp)*100/rho_emp\n",
    "        error_rel['full'][z0,z1] = (error_rel['sigma'][z0,z1]+error_rel['rho'][z0,z1])/2"
   ]
  },
  {
   "cell_type": "markdown",
   "id": "a1810b94-7f6e-43e5-9be9-4bac30f92346",
   "metadata": {},
   "source": [
    "Now find the argmin of the error."
   ]
  },
  {
   "cell_type": "code",
   "execution_count": 15,
   "id": "12148de3-53a3-4e17-a361-120fe7e893f3",
   "metadata": {},
   "outputs": [],
   "source": [
    "metric = ('sigma','rho')\n",
    "z0_data, z1_data = min_dem, min_rep\n",
    "error_abs_final = 1\n",
    "error_rel_final = 1\n",
    "\n",
    "for z0 in range(1,min_dem+1):\n",
    "    for z1 in range(1,min_rep+1):\n",
    "        err = error_abs['full'][z0,z1]\n",
    "        if err < error_abs_final:\n",
    "            z0_data, z1_data, error_abs_final = z0, z1, err\n",
    "        elif err == error_abs_final:\n",
    "            if z0+z1 < z0_data + z1_data:\n",
    "                z0_data, z1_data, error_abs_final = z0, z1, err\n",
    "error_rel_final = error_rel['full'][z0_data,z1_data]"
   ]
  },
  {
   "cell_type": "code",
   "execution_count": 16,
   "id": "b264466b-4f6c-4608-93fa-b8908d748bf6",
   "metadata": {},
   "outputs": [],
   "source": [
    "metric_data = {'sigma':us.get_sigma_complete(z0_data,z1_data),\n",
    "                      'rho': us.get_rho_complete(N,z0_data,z1_data)}"
   ]
  },
  {
   "cell_type": "code",
   "execution_count": 17,
   "id": "b6ad2d4b-870e-4f20-b72d-ee62e0c1e00d",
   "metadata": {},
   "outputs": [
    {
     "name": "stdout",
     "output_type": "stream",
     "text": [
      "190\n",
      "\n",
      "143\n",
      "\n",
      "89\n",
      "\n",
      "63\n",
      "\n",
      "3.792540933120203e-05\n",
      "\n",
      "0.005560817266483827\n",
      "\n",
      "{'sigma': 0.9707409972299169, 'rho': 0.3211098249267103}\n"
     ]
    }
   ],
   "source": [
    "print(min_dem, min_rep, z0_data, z1_data, error_abs_final, error_rel_final, metric_data, sep='\\n\\n')"
   ]
  },
  {
   "cell_type": "markdown",
   "id": "d0c3beca-f81f-470f-9d32-acbd15f464a1",
   "metadata": {},
   "source": [
    "## Optimising with $z_0,z_1$"
   ]
  },
  {
   "cell_type": "code",
   "execution_count": 18,
   "id": "70d3e8ed-169e-4a5e-9aa0-81eebe53b87a",
   "metadata": {},
   "outputs": [],
   "source": [
    "alpha_range = np.linspace(0,.99,100)\n",
    "yaxis = dict()\n",
    "for m in metric:\n",
    "    for z in (0,1):\n",
    "        yaxis[m,z] = {'z':list(), 'sigma':list(), 'rho':list()}\n",
    "\n",
    "for a in alpha_range:\n",
    "    z0,sigma = us.max_sigma_complete(N,z1_data,a)\n",
    "    rho = us.get_rho_complete(N,z0,z1_data,a)\n",
    "    yaxis['sigma',0]['z'].append(z0)\n",
    "    yaxis['sigma',0]['sigma'].append(sigma)\n",
    "    yaxis['sigma',0]['rho'].append(rho)\n",
    "    \n",
    "    z1,sigma = us.max_sigma_complete(N,z0_data,a)\n",
    "    rho = us.get_rho_complete(N,z0_data,z1,a)\n",
    "    yaxis['sigma',1]['z'].append(z1)\n",
    "    yaxis['sigma',1]['sigma'].append(sigma)\n",
    "    yaxis['sigma',1]['rho'].append(rho)\n",
    "    \n",
    "    z0,rho = us.max_rho_complete(N,z1_data,a)\n",
    "    sigma = us.get_sigma_complete(z0,z1_data,a)\n",
    "    yaxis['rho',0]['z'].append(z0)\n",
    "    yaxis['rho',0]['sigma'].append(sigma)\n",
    "    yaxis['rho',0]['rho'].append(rho)\n",
    "    \n",
    "    z1,rho = us.max_rho_complete(N,z0_data,a)\n",
    "    sigma = us.get_sigma_complete(z0_data,z1,a)\n",
    "    yaxis['rho',1]['z'].append(z1)\n",
    "    yaxis['rho',1]['sigma'].append(sigma)\n",
    "    yaxis['rho',1]['rho'].append(rho)"
   ]
  },
  {
   "cell_type": "markdown",
   "id": "4a2b7a91-08ad-4a23-bdff-2cda1aa4d2af",
   "metadata": {},
   "source": [
    "Axes limits."
   ]
  },
  {
   "cell_type": "code",
   "execution_count": 19,
   "id": "a94de4ee-2675-4af0-9945-32122a106192",
   "metadata": {},
   "outputs": [],
   "source": [
    "ymin = {'sigma':.5,'rho':0}\n",
    "ymax = {'sigma':1,'rho':0.5}"
   ]
  },
  {
   "cell_type": "markdown",
   "id": "d36d9c19-50f3-4810-a163-3e3a50bd64d9",
   "metadata": {},
   "source": [
    "Plot."
   ]
  },
  {
   "cell_type": "code",
   "execution_count": 20,
   "id": "0d8165a4-c73f-4f65-b831-5dc548c717ac",
   "metadata": {},
   "outputs": [
    {
     "name": "stderr",
     "output_type": "stream",
     "text": [
      "The PostScript backend does not support transparency; partially transparent artists will be rendered opaque.\n"
     ]
    },
    {
     "data": {
      "image/png": "[encoded data removed]",
      "text/plain": [
       "<Figure size 720x288 with 4 Axes>"
      ]
     },
     "metadata": {
      "needs_background": "light"
     },
     "output_type": "display_data"
    }
   ],
   "source": [
    "party = {0:'D',1:'R'}\n",
    "label = {m: r'$\\{}$'.format(m) for m in metric}\n",
    "label_optim = {(m,z): r'$\\{}(z_{}^\\star)$'.format(m,party[z]) for m in metric for z in (0,1)}\n",
    "label_hline = {m: r'$\\hat\\{}$ empirical'.format(m) for m in metric}\n",
    "title = {(m): r'optimising $\\{}$'.format(m) for m in metric}\n",
    "color = {'sigma':'blue','rho':'red'}\n",
    "marker = {0:'o', 1:'s'}\n",
    "every = 9\n",
    "loc = {'sigma':'left','rho':'right'} # for spines\n",
    "ls = {0:'-.', 1:'--'}\n",
    "facecolor = {'sigma':'white', 'rho':None}\n",
    "handles, labels = list(), list()\n",
    "plot, hline = dict(), dict()\n",
    "\n",
    "fig,ax = plt.subplots(1,2,figsize=(10,4))\n",
    "\n",
    "for i,m in enumerate(metric):\n",
    "    ax[i].set_xlabel(r'$\\alpha$')\n",
    "    ax[i].set_title(title[m])\n",
    "    ax_ = {'sigma':ax[i], 'rho':ax[i].twinx()}\n",
    "    if m=='sigma':\n",
    "        ax_['rho'].get_yaxis().set_visible(False)\n",
    "    else:\n",
    "        ax_['sigma'].get_yaxis().set_visible(False)\n",
    "    for m2 in metric:\n",
    "        hline[m2] = ax_[m2].axhline(metric_data[m2],ls=':',lw=2,c=color[m2])\n",
    "        ax_[m2].set_ylim(ymin[m2]-.02,ymax[m2]+.02)\n",
    "        for z in (0,1):\n",
    "            plot[m2,z], = ax_[m2].plot(alpha_range, yaxis[m,z][m2], c=color[m2], marker=marker[z], markevery=every, \n",
    "                         ls=ls[z], markerfacecolor=facecolor[m2])\n",
    "    ax_[m].tick_params(axis='y', colors=color[m])\n",
    "    ax_[m].set_ylabel(label[m], color=color[m])\n",
    "\n",
    "for m in metric:\n",
    "    for z in (0,1):\n",
    "        handles.append(plot[m,z])\n",
    "        labels.append(label_optim[m,z])\n",
    "    handles.append(hline[m])\n",
    "    labels.append(label_hline[m])\n",
    "fig.legend(handles, labels, loc='lower center', ncol=6, fancybox=False, shadow=True)#, columnspacing=1.5)\n",
    "fig.tight_layout(rect=[0, .08, 1, 1], pad=.3)  \n",
    "\n",
    "plt.savefig(f'data_optim.eps')\n",
    "plt.show()\n",
    "plt.close()"
   ]
  },
  {
   "cell_type": "markdown",
   "id": "ac786d0a-a785-485e-9b7f-00feff6d08f5",
   "metadata": {},
   "source": [
    "Now plot z..."
   ]
  },
  {
   "cell_type": "code",
   "execution_count": 21,
   "id": "09d866e5-c1c1-41ad-9056-4caf6ac51a2e",
   "metadata": {},
   "outputs": [
    {
     "name": "stderr",
     "output_type": "stream",
     "text": [
      "The PostScript backend does not support transparency; partially transparent artists will be rendered opaque.\n"
     ]
    },
    {
     "data": {
      "image/png": "[encoded data removed]",
      "text/plain": [
       "<Figure size 720x288 with 2 Axes>"
      ]
     },
     "metadata": {
      "needs_background": "light"
     },
     "output_type": "display_data"
    }
   ],
   "source": [
    "label = {m: r'$\\{}$'.format(m) for m in metric}\n",
    "label_optim = {z: r'$z_{}^\\star$ optimal'.format(party[z]) for z in (0,1)}\n",
    "label_max = {z: r'$z_{}$ max'.format(party[z]) for z in (0,1)}\n",
    "label_hline = {z: r'$\\hat z_{}$ empirical'.format(party[z]) for z in (0,1)}\n",
    "title = {m: r'optimising $\\{}$'.format(m) for m in metric}\n",
    "color = {0:'green',1:'brown'}\n",
    "marker = {0:'o', 1:'s'}\n",
    "every = 9\n",
    "ls = {0:'-.', 1:'--'}\n",
    "facecolor = {0:'white', 1:None}\n",
    "handles, labels = list(), list()\n",
    "plot, plot2, hline = dict(), dict(), dict()\n",
    "#ymin,ymax = 0,N\n",
    "\n",
    "fig,ax = plt.subplots(1,2,figsize=(10,4))\n",
    "\n",
    "zmax = dict()\n",
    "zmax[0] = [(N-z1_data)/(1+a) for a in alpha_range]\n",
    "zmax[1] = [(N-z0_data)/(1+a) for a in alpha_range]\n",
    "\n",
    "for i,m in enumerate(metric):\n",
    "    ax[i].set_xlabel(r'$\\alpha$')\n",
    "    ax[i].set_title(title[m])\n",
    "    ax[i].set_ylim(0,N)\n",
    "    if m=='rho':\n",
    "        ax[i].yaxis.tick_right()\n",
    "    for z in (0,1):\n",
    "        #yax = [y/zmax[z][j] for j,y in enumerate(yaxis[m,z]['z'])]\n",
    "        if z==0:\n",
    "            hline[z] = ax[i].axhline(z1_data,ls=':',lw=2,c=color[z])\n",
    "        else:\n",
    "            hline[z] = ax[i].axhline(z0_data,ls=':',lw=2,c=color[z])\n",
    "        plot[z], = ax[i].plot(alpha_range, yaxis[m,z]['z'], c=color[z], markerfacecolor='white',\n",
    "                                marker=marker[z], markevery=every, ls=ls[z])\n",
    "        plot2[z], = ax[i].plot(alpha_range, zmax[z], c=color[z], markerfacecolor=None,\n",
    "                                marker=marker[z], markevery=every, ls=ls[z])\n",
    "        #ax[i].set_ylim(ymin[m2]-.02,ymax[m2]+.02)\n",
    "\n",
    "for z in (0,1):\n",
    "    handles.append(plot[z])\n",
    "    labels.append(label_optim[z])\n",
    "    handles.append(plot2[z])\n",
    "    labels.append(label_max[z])\n",
    "    handles.append(hline[z])\n",
    "    labels.append(label_hline[z])\n",
    "    fig.legend(handles, labels, loc='lower center', ncol=6, fancybox=False, shadow=True)\n",
    "    fig.tight_layout(rect=[0, .08, 1, 1])  \n",
    "\n",
    "\n",
    "plt.savefig(f'data_argoptim.eps')\n",
    "plt.show()\n",
    "plt.close()"
   ]
  }
 ],
 "metadata": {
  "kernelspec": {
   "display_name": "Python 3 (ipykernel)",
   "language": "python",
   "name": "python3"
  },
  "language_info": {
   "codemirror_mode": {
    "name": "ipython",
    "version": 3
   },
   "file_extension": ".py",
   "mimetype": "text/x-python",
   "name": "python",
   "nbconvert_exporter": "python",
   "pygments_lexer": "ipython3",
   "version": "3.7.11"
  },
  "toc-autonumbering": true
 },
 "nbformat": 4,
 "nbformat_minor": 5
}

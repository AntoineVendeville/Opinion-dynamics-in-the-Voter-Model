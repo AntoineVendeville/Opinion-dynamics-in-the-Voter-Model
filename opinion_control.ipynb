{
 "cells": [
  {
   "cell_type": "markdown",
   "metadata": {},
   "source": [
    "# <center>Towards control of opinion diversity by introducing zealots into a polarised social group </center>\n",
    "Code used in the paper submitted to Discovery Science 2021."
   ]
  },
  {
   "cell_type": "code",
   "execution_count": null,
   "metadata": {},
   "outputs": [],
   "source": [
    "# imports\n",
    "import sys\n",
    "import numpy as np\n",
    "import pickle\n",
    "from time import time\n",
    "import matplotlib.pyplot as plt\n",
    "from matplotlib import rc\n",
    "import networkx as nx\n",
    "from matplotlib.lines import Line2D\n",
    "import util # our functions\n",
    "\n",
    "# for plots appearance\n",
    "color = [\"blue\", \"red\", \"green\", \"orange\"]\n",
    "marker = \"x+*^p\"\n",
    "linestyle = [\"--\", \"-.\", \":\", \"-\", (0,(3, 5, 1, 5))]\n",
    "\n",
    "# latex rendering\n",
    "rc('font',**{'family':'sans-serif','sans-serif':['Palatino']})\n",
    "rc('text', usetex=True)\n",
    "rc('legend', frameon=False) # PS doesn't do well with transparencies"
   ]
  },
  {
   "cell_type": "markdown",
   "metadata": {},
   "source": [
    "## Figure 1.\n",
    "Choose the parameters."
   ]
  },
  {
   "cell_type": "code",
   "execution_count": null,
   "metadata": {},
   "outputs": [],
   "source": [
    "n = 50 # nb users\n",
    "n1 = 10 # N1(t=0)\n",
    "z0, z1 = 5, 2  # number of zealots\n",
    "max_time = 20\n",
    "spacing_simu = 1\n",
    "length = int(np.floor(max_time/spacing_simu)+1)"
   ]
  },
  {
   "cell_type": "markdown",
   "metadata": {},
   "source": [
    "Simulation."
   ]
  },
  {
   "cell_type": "code",
   "execution_count": null,
   "metadata": {},
   "outputs": [],
   "source": [
    "N1t = util.voter_simu(n, n1, z1, z0, max_time, spacing_simu)\n",
    "N1t = N1t.astype(int)"
   ]
  },
  {
   "cell_type": "markdown",
   "metadata": {},
   "source": [
    "Plot."
   ]
  },
  {
   "cell_type": "code",
   "execution_count": null,
   "metadata": {},
   "outputs": [],
   "source": [
    "fs = 10 # fontsize\n",
    "fig, ax = plt.subplots(1,4, figsize=(7,2))\n",
    "plot_times = (0,5,10,12)\n",
    "        \n",
    "# create graph\n",
    "G = nx.Graph()\n",
    "for k in range(n):\n",
    "    if k<z0 or k>=n-z1:\n",
    "        G.add_node(k, s=\"^\")\n",
    "    else:\n",
    "        G.add_node(k, s=\"o\")\n",
    "    for l in range(k):\n",
    "        G.add_edge(l,k)\n",
    "\n",
    "# get node pos and all distinct node classes according to the node shape attribute\n",
    "pos = nx.layout.spring_layout(G, scale=1)\n",
    "nodeShapes = set((aShape[1][\"s\"] for aShape in G.nodes(data=True)))\n",
    "\n",
    "# look at different times\n",
    "for i,t in enumerate(plot_times):\n",
    "    n0t, n1t = n-N1t[t]-z0, N1t[t]-z1\n",
    "    color = [\"red\"]*z0 + [\"darkred\"]*n0t + [\"blue\"]*n1t + [\"deepskyblue\"]*z1\n",
    "\n",
    "    # draw nodes\n",
    "    for aShape in nodeShapes:\n",
    "        node_list = [sNode[0] for sNode in filter(lambda x: x[1][\"s\"]==aShape, G.nodes(data=True))]\n",
    "        color_list = [color[k] for k in node_list]\n",
    "        nx.draw_networkx_nodes(G, pos, ax=ax[i], node_size=250, node_color=color_list, node_shape=aShape, nodelist=node_list, edgecolors=\"black\")\n",
    "        ax[i].axis(\"off\")\n",
    "        ax[i].set_title(\"t={}\".format(t))\n",
    "        \n",
    "    # draw edges if needed\n",
    "    #nx.draw_networkx_edges(G, pos, ax=axis, width=.1)\n",
    "\n",
    "# legend\n",
    "legend_elements = list()\n",
    "legend_elements += [Line2D([0], [0], marker=\"^\", color=\"w\", label=\"0-zealot\", markerfacecolor=\"red\", markeredgecolor=\"black\", markersize=15)]\n",
    "if z1>0:\n",
    "    legend_elements += [Line2D([0], [0], marker=\"^\", color=\"w\", label=\"1-zealot\", markerfacecolor=\"deepskyblue\", markeredgecolor=\"black\", markersize=15)]\n",
    "legend_elements += [Line2D([0], [0], marker=\"o\", color=\"w\", label=\"opinion-0\", markerfacecolor=\"darkred\", markeredgecolor=\"black\", markersize=15)]\n",
    "legend_elements += [Line2D([0], [0], marker=\"o\", color=\"w\", label=\"opinion-1\", markerfacecolor=\"blue\", markeredgecolor=\"black\", markersize=15)]\n",
    "if z1>0:\n",
    "    plt.legend(handles=legend_elements, edgecolor=\"w\", labelspacing=.6, fontsize=fs, handletextpad=.25, borderpad=.2, loc=(1.2,0.18))\n",
    "else:\n",
    "    plt.legend(handles=legend_elements, edgecolor=\"w\", labelspacing=.6, fontsize=fs, handletextpad=.25, borderpad=.2, loc=(1.2,0.27))\n",
    "\n",
    "# show\n",
    "plt.tight_layout()\n",
    "plt.show()\n",
    "plt.close()"
   ]
  },
  {
   "cell_type": "markdown",
   "metadata": {},
   "source": [
    "## Figures 2 and 3\n",
    "Choose parameters. Erdos-Renyi of parameter 1 = complete graph."
   ]
  },
  {
   "cell_type": "code",
   "execution_count": null,
   "metadata": {},
   "outputs": [],
   "source": [
    "n = 100\n",
    "z0, z1 = 20, 40 # nb of zealots\n",
    "n_simu = 500 # nb of simulations\n",
    "max_time = 200 # max time for each simulation\n",
    "spacing_simu = .1 # save N1t every .1 time units\n",
    "length = int(np.floor(max_time/spacing_simu)+1) # don't change\n",
    "x_axis = np.linspace(0, max_time, length) # don't change\n",
    "graph_model = (\"ER\",\"WS\",\"BA\") # chosen graph models\n",
    "model_name = {\"ER\":\"Erdös-Rényi\", \"WS\":\"Watts-Strogatz\", \"BA\":\"Barabási-Albert\"} # full names\n",
    "graph_param = {\"ER\":(.1,.3,.5,1), \"BA\":(1,3,5), \"WS\":(0.01,.05,0.1)} # parameters for each graph model\n",
    "n_param = {model: len(graph_param[model]) for model in graph_model} # don't change\n",
    "param_name = {\"ER\":\"p\", \"BA\":r\"m\", \"WS\":r\"$\\omega$\"} # don't change\n",
    "color = [\"blue\", \"red\", \"green\", \"orange\"] # graph colors"
   ]
  },
  {
   "cell_type": "markdown",
   "metadata": {},
   "source": [
    "Compute expected limiting average opinion."
   ]
  },
  {
   "cell_type": "code",
   "execution_count": null,
   "metadata": {},
   "outputs": [],
   "source": [
    "n1_equilibrium = n*z1/(z0+z1)"
   ]
  },
  {
   "cell_type": "markdown",
   "metadata": {},
   "source": [
    "Simulate for each model and parameter."
   ]
  },
  {
   "cell_type": "code",
   "execution_count": null,
   "metadata": {},
   "outputs": [],
   "source": [
    "N1t = {model: np.zeros((n_simu, length, n_param[model])) for model in graph_model}\n",
    "start = time()\n",
    "\n",
    "for model in graph_model:\n",
    "     for i,param in enumerate(graph_param[model]):\n",
    "        leaders = util.create_connected_user_graph(n,model,param)\n",
    "        for k in range(n_simu): #progressbar.progressbar(range(n_simu)):\n",
    "            n1 = np.random.randint(z1,n-z0+1)\n",
    "            sys.stdout.flush()\n",
    "            sys.stdout.write(\"Graph {}. Param {}/{}. Simu {}/{}. Elapsed time {:.3f}\\r\".format(model, i+1, n_param[model], k+1, n_simu, time()-start))\n",
    "            N1t[model][k,:,i] = util.custom_graph_simu(leaders, n1, z1, z0, max_time, spacing_simu)"
   ]
  },
  {
   "cell_type": "markdown",
   "metadata": {},
   "source": [
    "Plot figure 2."
   ]
  },
  {
   "cell_type": "code",
   "execution_count": null,
   "metadata": {},
   "outputs": [],
   "source": [
    "# choose custom time range to plot\n",
    "max_time_plot = 50\n",
    "time_range = x_axis<=max_time_plot\n",
    "\n",
    "fig, ax = plt.subplots(2, 2, figsize=(7,4))\n",
    "\n",
    "# complete first\n",
    "mean = N1t[\"ER\"][:,time_range,-1].mean(axis=0)\n",
    "ax[0,0].axhline(y=n1_equilibrium, color=\"grey\", label=r\"$nz_1/(z_0+z_1)$\")\n",
    "ax[0,0].plot(x_axis[time_range], mean, c=color[0])\n",
    "ax[0,0].set_title(\"Complete\")\n",
    "ax[0,0].legend(loc=\"best\", frameon=True, fontsize=9, edgecolor=\"grey\")\n",
    "\n",
    "# then the rest\n",
    "for j,model in enumerate(graph_model,1):\n",
    "    x,y = j//2,j%2 # axis index\n",
    "    ax[x,y].axhline(y=n1_equilibrium, color=\"grey\", label=r\"$nz_1/(z_0+z_1)$\")\n",
    "    for i,param in enumerate(graph_param[model]):\n",
    "        if model==\"ER\" and param==1: # we already plotted complete\n",
    "            continue\n",
    "        else:\n",
    "            mean = N1t[model][:,time_range,i].mean(axis=0)\n",
    "            ax[x,y].plot(x_axis[time_range], mean, ls=linestyle[i], c=color[i], label=r\"{}={}\".format(param_name[model],param))\n",
    "\n",
    "    # style\n",
    "    ax[x,y].legend(loc=\"best\", frameon=True, fontsize=9, edgecolor=\"grey\")\n",
    "    ax[x,y].set_title(model_name[model])\n",
    "        \n",
    "\n",
    "# style, show and save\n",
    "ax[1,0].set_xlabel(r\"time\")\n",
    "ax[1,0].set_ylabel(r\"$N_1(t)$\")\n",
    "plt.tight_layout()\n",
    "plt.show()\n",
    "plt.close()"
   ]
  },
  {
   "cell_type": "markdown",
   "metadata": {},
   "source": [
    "Plot figure 3."
   ]
  },
  {
   "cell_type": "code",
   "execution_count": null,
   "metadata": {},
   "outputs": [],
   "source": [
    "cv_time = 20 # estimated convergence time\n",
    "time_range = x_axis>=cv_time\n",
    "\n",
    "fig, ax = plt.subplots(2, 2, figsize=(7,4))\n",
    "\n",
    "# complete first\n",
    "unique, count = np.unique(N1t[\"ER\"][:,time_range,-1], return_counts=True)\n",
    "distrib = count/count.sum() # transform counts into proportions\n",
    "ax[0,0].plot(unique, distrib, lw=.8, marker=marker[0], color=color[0])\n",
    "ax[0,0].axvline(x=N1t[\"ER\"][:,time_range,-1].mean(), lw=.8,  color=color[i])\n",
    "ax[0,0].axvline(x=n1_equilibrium, lw=.8, color=\"grey\")\n",
    "ax[0,0].set_title(\"Complete\")\n",
    "ax[0,0].set_yticks([])\n",
    "\n",
    "for j,model in enumerate(graph_model,1):\n",
    "    x,y = j//2,j%2 # axis index\n",
    "    #ax[x,y].plot(range(z1, n-z0+1), stationary, color=\"grey\", lw=.8, label=r\"$nz_1/(z_0+z_1)$\")\n",
    "    ax[x,y].axvline(x=n1_equilibrium, lw=.8, color=\"grey\")\n",
    "    for i,param in enumerate(graph_param[model]):\n",
    "        if model==\"ER\" and param==1:\n",
    "            continue\n",
    "        else:\n",
    "            unique, count = np.unique(N1t[model][:,time_range,i], return_counts=True)\n",
    "            distrib = count/count.sum() # transform counts into proportions\n",
    "            ax[x,y].plot(unique, distrib, linewidth=.8, ls=linestyle[i], marker=marker[i], color=color[i], label=r\"{}={}\".format(param_name[model],param))\n",
    "            ax[x,y].axvline(x=N1t[model][:,time_range,i].mean(), lw=.8, color=color[i])\n",
    "    \n",
    "    ax[x,y].set_title(model_name[model])\n",
    "    ax[x,y].legend(loc=\"upper left\", frameon=True)\n",
    "    ax[x,y].set_yticks([])\n",
    "    \n",
    "# end\n",
    "ax[1,0].set_xlabel(r\"$N_1^\\star$\")\n",
    "plt.tight_layout()\n",
    "plt.show()\n",
    "plt.close()"
   ]
  },
  {
   "cell_type": "markdown",
   "metadata": {},
   "source": [
    "Compute averaged relative errors."
   ]
  },
  {
   "cell_type": "code",
   "execution_count": null,
   "metadata": {},
   "outputs": [],
   "source": [
    "cv_time = 20\n",
    "time_range = x_axis>=cv_time\n",
    "for model in graph_model:\n",
    "    for i,param in enumerate(graph_param[model]):\n",
    "        temporal_mean = N1t[model][:,time_range,i].mean(axis=1)\n",
    "        error = np.abs(temporal_mean - n1_equilibrium)/n1_equilibrium\n",
    "        error_avg = error.mean()\n",
    "        std_avg = error.std()\n",
    "        print(\"[{} {}]\".format(model,param), error_avg, std_avg)"
   ]
  },
  {
   "cell_type": "markdown",
   "metadata": {},
   "source": [
    "Compute averaged absolute errors."
   ]
  },
  {
   "cell_type": "code",
   "execution_count": null,
   "metadata": {},
   "outputs": [],
   "source": [
    "cv_time = 20\n",
    "time_range = x_axis>=cv_time\n",
    "for model in graph_model:\n",
    "    for i,param in enumerate(graph_param[model]):\n",
    "        temporal_mean = N1t[model][:,time_range,i].mean(axis=1)\n",
    "        error = np.abs(temporal_mean - n1_equilibrium)\n",
    "        error_avg = error.mean()\n",
    "        std_avg = error.std()\n",
    "        print(\"[{} {}]\".format(model,param), error_avg, std_avg)"
   ]
  },
  {
   "cell_type": "markdown",
   "metadata": {},
   "source": [
    "## Figures 4 and 5\n",
    "Choose parameters. We consider several different values for $\\lambda,\\alpha,z_0$."
   ]
  },
  {
   "cell_type": "code",
   "execution_count": null,
   "metadata": {},
   "outputs": [],
   "source": [
    "n = 100\n",
    "lambda_range = np.array([0.3, 0.5, 0.7]) # heterogeneity\n",
    "z0_range = np.arange(n)\n",
    "alpha_range = np.array([.025, .05, 0.075, .1]) # backfire effect intensity\n",
    "with_max = True # do we use a z1_max?"
   ]
  },
  {
   "cell_type": "markdown",
   "metadata": {},
   "source": [
    "Compute optimum $z_1^\\star$ for each set of parameters."
   ]
  },
  {
   "cell_type": "code",
   "execution_count": null,
   "metadata": {},
   "outputs": [],
   "source": [
    "Z1 = np.zeros((alpha_range.size, z0_range.size, lambda_range.size))\n",
    "for k,lambd in enumerate(lambda_range):\n",
    "    for i,alpha in enumerate(alpha_range):\n",
    "        for j,z0 in enumerate(z0_range):\n",
    "            D = 1-lambd-lambd*alpha*z0\n",
    "            if D <= 0:\n",
    "                Z1[i,j,k] = -1\n",
    "            else:\n",
    "                z1 = lambd*z0/D\n",
    "                if with_max:\n",
    "                    z1_max = (n-z0)/(1+alpha*z0)\n",
    "                    Z1[i,j,k] = min(z1_max, z1)\n",
    "                else:\n",
    "                    Z1[i,j,k] = z1"
   ]
  },
  {
   "cell_type": "markdown",
   "metadata": {},
   "source": [
    "Plot Figure 4."
   ]
  },
  {
   "cell_type": "code",
   "execution_count": null,
   "metadata": {},
   "outputs": [],
   "source": [
    "fs = 15 # fontsize\n",
    "fig, ax = plt.subplots(1, 3, figsize=(12,3))\n",
    "\n",
    "for k,lambd in enumerate(lambda_range):\n",
    "    for i,alpha in enumerate(alpha_range):\n",
    "        idx, = np.where(Z1[i,:,k]!=-1) # don't plot when D<=0\n",
    "        ax[k].plot(z0_range[idx], Z1[i,idx,k], marker=marker[i], ls=linestyle[i], color=color[i], markevery=2, label=r\"$\\alpha={}$\".format(alpha))\n",
    "    ax[k].grid()\n",
    "    ax[k].set_title(r\"$\\lambda={}$\".format(lambd), fontsize=fs)\n",
    "    \n",
    "# style\n",
    "ax[0].set_ylabel(r\"$z_1^\\star$\", fontsize=fs)\n",
    "ax[1].set_xlabel(r\"$z_0$\", fontsize=fs)\n",
    "ax[2].legend(loc=\"lower right\", frameon=True, framealpha=1)\n",
    "    \n",
    "# save and show\n",
    "plt.tight_layout()\n",
    "plt.show()\n",
    "plt.close()"
   ]
  },
  {
   "cell_type": "markdown",
   "metadata": {},
   "source": [
    "Now we look at the discrepancy between the resulting diversity and lambda in the $D\\le0$ cases."
   ]
  },
  {
   "cell_type": "code",
   "execution_count": null,
   "metadata": {},
   "outputs": [],
   "source": [
    "error = np.zeros((alpha_range.size, z0_range.size, lambda_range.size))\n",
    "for k,lambd in enumerate(lambda_range):\n",
    "    for i,alpha in enumerate(alpha_range):\n",
    "        for j,z0 in enumerate(z0_range):\n",
    "            D = 1-lambd-lambd*alpha*z0\n",
    "            if D <= 0:\n",
    "                zm = (n-z0)/(1+alpha*z0) # z1_max\n",
    "                error[i,j,k] = np.abs(lambd - zm/((1+alpha*zm)*z0+zm))\n",
    "            else:\n",
    "                continue # error is already 0 from the way we initialised"
   ]
  },
  {
   "cell_type": "markdown",
   "metadata": {},
   "source": [
    "Plot Figure 5."
   ]
  },
  {
   "cell_type": "code",
   "execution_count": null,
   "metadata": {},
   "outputs": [],
   "source": [
    "fs = 15 # fontsize\n",
    "fig, ax = plt.subplots(1, 3, figsize=(12,3))\n",
    "\n",
    "for k,lambd in enumerate(lambda_range):\n",
    "    for i,alpha in enumerate(alpha_range):\n",
    "        idx, = np.where(Z1[i,:,k]==-1)\n",
    "        ax[k].plot(z0_range[idx], error[i,idx,k], marker=marker[i], markevery=5, lw=.8, ls=linestyle[i], color=color[i], label=r\"$\\alpha={}$\".format(alpha))\n",
    "    ax[k].grid()\n",
    "    ax[k].set_title(r\"$\\lambda={}$\".format(lambd), fontsize=fs)\n",
    "    \n",
    "# style\n",
    "ax[0].set_ylabel(r\"error\", fontsize=fs)\n",
    "ax[1].set_xlabel(r\"$z_0$\", fontsize=fs)\n",
    "ax[2].legend(loc=\"lower right\", frameon=True, framealpha=1)\n",
    "    \n",
    "# save and show\n",
    "plt.tight_layout()\n",
    "plt.show()\n",
    "plt.close()"
   ]
  }
 ],
 "metadata": {
  "kernelspec": {
   "display_name": "Python 3 (ipykernel)",
   "language": "python",
   "name": "python3"
  },
  "language_info": {
   "codemirror_mode": {
    "name": "ipython",
    "version": 3
   },
   "file_extension": ".py",
   "mimetype": "text/x-python",
   "name": "python",
   "nbconvert_exporter": "python",
   "pygments_lexer": "ipython3",
   "version": "3.7.11"
  }
 },
 "nbformat": 4,
 "nbformat_minor": 4
}
